{
 "cells": [
  {
   "cell_type": "markdown",
   "id": "065e0e6d-4a55-480e-ad0c-a4f66fa74186",
   "metadata": {},
   "source": [
    "# Assignment 1 - Oops"
   ]
  },
  {
   "cell_type": "markdown",
   "id": "33f23829-8b70-412b-9b72-3d5a6873472d",
   "metadata": {},
   "source": [
    "1. Bank Account Create a class representing a bank account with attributes like account number, account holder name, and balance. Implement methods to deposit and withdraw money from the account."
   ]
  },
  {
   "cell_type": "code",
   "execution_count": 115,
   "id": "9193c4b9-69ff-42dd-8c19-deafb8a1ba07",
   "metadata": {},
   "outputs": [],
   "source": [
    "class BankAccount:\n",
    "    def __init__(self, account_number, account_holder_name,balance):\n",
    "        self.account_number = account_number\n",
    "        self.account_holder_name = account_holder_name\n",
    "        self.balance = balance\n",
    "    def withdraw_money(self, account_number, money):\n",
    "        try:\n",
    "            if account_number == self.account_number and money < self.balance:\n",
    "                self.balance -= money\n",
    "                print(f'Your monay has withdraw of Rs.{money} ')\n",
    "        except Exception as e:\n",
    "            return e\n",
    "    def deposit_money(self, account_number, account_holder_name, money):\n",
    "        try:\n",
    "            if account_number == self.account_number and account_holder_name == self.account_holder_name:\n",
    "                self.balance += money\n",
    "                print(f'Your amount deposited into the account Rs.{money}')\n",
    "        except Exception as e:\n",
    "            return e\n",
    "    def check_balance(self):\n",
    "        return self.balance\n",
    "        \n",
    "    \n"
   ]
  },
  {
   "cell_type": "code",
   "execution_count": 116,
   "id": "6913276d-6390-4ba4-9462-970b665140aa",
   "metadata": {},
   "outputs": [],
   "source": [
    "kuldeep = BankAccount(1234, 'kuldeep', 5000)"
   ]
  },
  {
   "cell_type": "code",
   "execution_count": 118,
   "id": "9125c8b7-ffdf-418d-aaa4-fc021c5ac4fb",
   "metadata": {},
   "outputs": [
    {
     "name": "stdout",
     "output_type": "stream",
     "text": [
      "Your monay has withdraw of Rs.2000 \n"
     ]
    }
   ],
   "source": [
    "kuldeep.withdraw_money(1234,2000)"
   ]
  },
  {
   "cell_type": "code",
   "execution_count": 112,
   "id": "9c5153df-7e95-4e3d-b0f1-25bdb4fc00b8",
   "metadata": {},
   "outputs": [
    {
     "name": "stdout",
     "output_type": "stream",
     "text": [
      "Your amount deposited into the account Rs.2000\n"
     ]
    }
   ],
   "source": [
    "kuldeep.deposit_money(1234, 'kuldeep', 2000)"
   ]
  },
  {
   "cell_type": "code",
   "execution_count": 119,
   "id": "82951ec8-335d-4b28-b781-26fd71ae1b4c",
   "metadata": {},
   "outputs": [
    {
     "data": {
      "text/plain": [
       "3000"
      ]
     },
     "execution_count": 119,
     "metadata": {},
     "output_type": "execute_result"
    }
   ],
   "source": [
    "kuldeep.check_balance()"
   ]
  },
  {
   "cell_type": "markdown",
   "id": "8c088798-ce2e-4b91-acf2-4b12f033b589",
   "metadata": {},
   "source": [
    "1. Create a class called BankAccount\n",
    "2. We have created a constructor in which at the time of calling a method the bank has the user account number, user name and available balance\n",
    "3. Created a method inside class withdraw_money which takes account number, how much money you want to withdraw.\n",
    "4. Inside the withdraw method we have put the condition using the exception handling if the account number the user has entered is same the bank account has the account number and the money in which the user is withdrawing it should be less the available balance then only the money will be withdrawn\n",
    "5. Creating another method called deposit money if the user has entered the account number and account holding name it should be equal to the bank which is having the details then only money should be deposit and it will add up to the current balance which we have\n",
    "6. Creating another method called check balance the user w"
   ]
  },
  {
   "cell_type": "markdown",
   "id": "19fa5eae-5846-4c18-9bc7-a9111adf105b",
   "metadata": {},
   "source": [
    "2. Employee Management Create a class representing an employee with attributes like employee ID, name, and salary. Implement methods to calculate the yearly bonus and display employee details"
   ]
  },
  {
   "cell_type": "code",
   "execution_count": 28,
   "id": "177ed018-70bb-4243-83b0-d74e5219378e",
   "metadata": {},
   "outputs": [],
   "source": [
    "class EmployeeManagement:\n",
    "    def __init__(self, employee_id, name, salary):\n",
    "        self.employee_id = employee_id\n",
    "        self.bonus = 0\n",
    "        self.name = name\n",
    "        self.salary = salary\n",
    "    def calculate_bonus(self):\n",
    "        try:\n",
    "            if self.salary < 7000:\n",
    "                self.bonus = self.salary * (8.33/100) * 12,2\n",
    "                print(f'The yearly bonus for {self.name} will be Rs.{round(self.bonus,2)}')\n",
    "            elif self.salary > 7000 and self.salary < 21000:\n",
    "                self.bonus = 7000 * (8.33/100) * 12\n",
    "                print(f'The yearly bonus for {self.name} will be Rs.{round(self.bonus,2)}')\n",
    "            else:\n",
    "                print(f'{self.name} are not eligible for bonus')\n",
    "        except Exception as e:\n",
    "            return e\n",
    "    def employee_details(self):\n",
    "        return f'Employee name : {self.name}, Employee Id : {self.employee_id}, Salary : {self.salary}'\n",
    "        "
   ]
  },
  {
   "cell_type": "code",
   "execution_count": 29,
   "id": "83e7910c-2ffc-438a-b6f9-e8afcd41060a",
   "metadata": {},
   "outputs": [],
   "source": [
    "rudra = EmployeeManagement(1223, 'Rudra Kumar', 8000)"
   ]
  },
  {
   "cell_type": "code",
   "execution_count": 30,
   "id": "969fcac2-b043-407c-8ee7-dd22f00f8f39",
   "metadata": {},
   "outputs": [
    {
     "data": {
      "text/plain": [
       "'Employee name : Rudra Kumar, Employee Id : 1223, Salary : 8000'"
      ]
     },
     "execution_count": 30,
     "metadata": {},
     "output_type": "execute_result"
    }
   ],
   "source": [
    "rudra.employee_details()"
   ]
  },
  {
   "cell_type": "code",
   "execution_count": 31,
   "id": "ec88f57f-a18e-463d-8cb5-f5afe83740a9",
   "metadata": {},
   "outputs": [
    {
     "name": "stdout",
     "output_type": "stream",
     "text": [
      "The yearly bonus for Rudra Kumar will be Rs.6997.2\n"
     ]
    }
   ],
   "source": [
    "rudra.calculate_bonus()"
   ]
  },
  {
   "cell_type": "code",
   "execution_count": 32,
   "id": "361f3295-5ea2-4cf9-9ad3-a87742b8787f",
   "metadata": {},
   "outputs": [],
   "source": [
    "rakesh = EmployeeManagement(2233, 'Rakesh Singh', 25000)"
   ]
  },
  {
   "cell_type": "code",
   "execution_count": 33,
   "id": "d292d664-511b-4ca5-84b8-d1daa1b80419",
   "metadata": {},
   "outputs": [
    {
     "data": {
      "text/plain": [
       "'Employee name : Rakesh Singh, Employee Id : 2233, Salary : 25000'"
      ]
     },
     "execution_count": 33,
     "metadata": {},
     "output_type": "execute_result"
    }
   ],
   "source": [
    "rakesh.employee_details()"
   ]
  },
  {
   "cell_type": "code",
   "execution_count": 34,
   "id": "7e0274d1-8e15-4436-947f-0512f217c15e",
   "metadata": {},
   "outputs": [
    {
     "name": "stdout",
     "output_type": "stream",
     "text": [
      "Rakesh Singh are not eligible for bonus\n"
     ]
    }
   ],
   "source": [
    "rakesh.calculate_bonus()"
   ]
  },
  {
   "cell_type": "markdown",
   "id": "f83d95bf-d707-426a-a2c5-aadef5e3c6e9",
   "metadata": {},
   "source": [
    "1. Create a class called EmployeeManagement\n",
    "2. Create a constructor for the class Employeemanagement and having attributes like employee_id, employee name and his salary\n",
    "3. Create a method inside a class callled calculate_bonus if the employee salary is less than the 7000 then we apply the formulae for bonus and if the salary more than 7000 and less than 21000 then we apply different formulae for bonus \n",
    "4. If the employee salary is more than 21000 than that person is not eligible for bonus\n",
    "5. Create another method called employee details it will check if we want to implement bonus or not "
   ]
  },
  {
   "cell_type": "markdown",
   "id": "175b29c6-36df-415c-b0ea-e1fcd23b8730",
   "metadata": {},
   "source": [
    "3. Vehicle Rental Create a class representing a vehicle rental system. Implement methods to rent a vehicle, return a vehicle, and display available vehicles."
   ]
  },
  {
   "cell_type": "code",
   "execution_count": 36,
   "id": "dc3b9273-5091-43d3-b90b-9071c88e8bb7",
   "metadata": {},
   "outputs": [],
   "source": [
    "class RentVehicle:\n",
    "    def __init__(self,no_vehicle):\n",
    "        self.no_vehicle = no_vehicle\n",
    "    def rent_vehicle(self):\n",
    "        if self.no_vehicle >= 0:\n",
    "            self.no_vehicle -= 1\n",
    "        return 'You got the vehicle'\n",
    "    def return_vehicle(self):\n",
    "            self.no_vehicle += 1\n",
    "            return 'You have return the vehicle'\n",
    "    def available_vehicle(self):\n",
    "        return f'The number of vehicle available right now {self.no_vehicle} vehicle'\n",
    "    \n",
    "    "
   ]
  },
  {
   "cell_type": "code",
   "execution_count": 37,
   "id": "caa1b98c-e3b0-41a8-89c3-bb6313cdf37b",
   "metadata": {},
   "outputs": [],
   "source": [
    "reena = RentVehicle(10)"
   ]
  },
  {
   "cell_type": "code",
   "execution_count": 38,
   "id": "0b667dde-0c70-45ad-a22d-498b73a2a6cc",
   "metadata": {},
   "outputs": [
    {
     "data": {
      "text/plain": [
       "'You got the vehicle'"
      ]
     },
     "execution_count": 38,
     "metadata": {},
     "output_type": "execute_result"
    }
   ],
   "source": [
    "reena.rent_vehicle()"
   ]
  },
  {
   "cell_type": "code",
   "execution_count": 39,
   "id": "9dde02c1-88b5-4c6f-ab0a-a9e8d3f91f07",
   "metadata": {},
   "outputs": [
    {
     "data": {
      "text/plain": [
       "'The number of vehicle available right now 9 vehicle'"
      ]
     },
     "execution_count": 39,
     "metadata": {},
     "output_type": "execute_result"
    }
   ],
   "source": [
    "reena.available_vehicle()"
   ]
  },
  {
   "cell_type": "code",
   "execution_count": 40,
   "id": "4679c75b-4431-4921-a588-3a3c5afe374c",
   "metadata": {},
   "outputs": [
    {
     "data": {
      "text/plain": [
       "'You have return the vehicle'"
      ]
     },
     "execution_count": 40,
     "metadata": {},
     "output_type": "execute_result"
    }
   ],
   "source": [
    "reena.return_vehicle()"
   ]
  },
  {
   "cell_type": "code",
   "execution_count": 41,
   "id": "9b595e0e-9e89-4646-8ad6-e44337469abb",
   "metadata": {},
   "outputs": [
    {
     "data": {
      "text/plain": [
       "'The number of vehicle available right now 10 vehicle'"
      ]
     },
     "execution_count": 41,
     "metadata": {},
     "output_type": "execute_result"
    }
   ],
   "source": [
    "reena.available_vehicle()"
   ]
  },
  {
   "cell_type": "markdown",
   "id": "2afaabe6-479f-4213-99bc-007fc6e6c9c4",
   "metadata": {},
   "source": [
    "1. Create a class called rent vehicle\n",
    "2. Create a constructor in which we define no of vehicles available for rent\n",
    "3. Inside the class created a method called rent_vehicle if someone rent the vehicle then it should be substract from the available vehicle \n",
    "4. Create another method called return vehicle if the person return the vehicle it should be added again into the available vehicle \n",
    "5. Crete another method called available_vehicle it will give the user to check how many vehicles are left inside the shop "
   ]
  },
  {
   "cell_type": "markdown",
   "id": "32c7d157-b917-4fa9-9ea3-6e12e400046c",
   "metadata": {},
   "source": [
    "4. Library Catalog Create classes representing a library and a book. Implement methods to add books to the library, borrow books, and display available books."
   ]
  },
  {
   "cell_type": "code",
   "execution_count": 16,
   "id": "61d86b2f-5edf-433b-ae52-05dd9c9695ca",
   "metadata": {},
   "outputs": [],
   "source": [
    "class library:\n",
    "    def __init__(self, books):\n",
    "        self.books = books\n",
    "    def add_books(self,books):\n",
    "        return self.books.append(books)\n",
    "    def borrow_books(self, books):\n",
    "        return self.books.remove(books)\n",
    "    def available_books(self):\n",
    "        return self.books\n",
    "    "
   ]
  },
  {
   "cell_type": "code",
   "execution_count": 17,
   "id": "9278137c-1e3a-4ffe-9285-385d55b45dc1",
   "metadata": {},
   "outputs": [],
   "source": [
    "library = library(['Harry Potter', 'Narnia', 'Snowhite', 'Beauty and the beast'])"
   ]
  },
  {
   "cell_type": "code",
   "execution_count": 18,
   "id": "ba804460-4716-462d-8c9d-f12ca70fd0f1",
   "metadata": {},
   "outputs": [
    {
     "data": {
      "text/plain": [
       "['Harry Potter', 'Narnia', 'Snowhite', 'Beauty and the beast']"
      ]
     },
     "execution_count": 18,
     "metadata": {},
     "output_type": "execute_result"
    }
   ],
   "source": [
    "library.available_books()"
   ]
  },
  {
   "cell_type": "code",
   "execution_count": 19,
   "id": "c39fb41d-ece6-4b6e-aa8d-e1298dfe8ced",
   "metadata": {},
   "outputs": [],
   "source": [
    "library.add_books('The Amazing Spider Man')"
   ]
  },
  {
   "cell_type": "code",
   "execution_count": 20,
   "id": "1c76c511-4446-4833-9df8-e9fa7bcbbea5",
   "metadata": {},
   "outputs": [
    {
     "data": {
      "text/plain": [
       "['Harry Potter',\n",
       " 'Narnia',\n",
       " 'Snowhite',\n",
       " 'Beauty and the beast',\n",
       " 'The Amazing Spider Man']"
      ]
     },
     "execution_count": 20,
     "metadata": {},
     "output_type": "execute_result"
    }
   ],
   "source": [
    "library.available_books()"
   ]
  },
  {
   "cell_type": "code",
   "execution_count": 22,
   "id": "b5781e58-bcbf-491c-b5c0-e998a8dcca96",
   "metadata": {},
   "outputs": [],
   "source": [
    "library.borrow_books('Snowhite')"
   ]
  },
  {
   "cell_type": "code",
   "execution_count": 23,
   "id": "d6b9c562-1c1e-4679-9d5e-7511b33ae6c9",
   "metadata": {},
   "outputs": [
    {
     "data": {
      "text/plain": [
       "['Harry Potter', 'Narnia', 'Beauty and the beast', 'The Amazing Spider Man']"
      ]
     },
     "execution_count": 23,
     "metadata": {},
     "output_type": "execute_result"
    }
   ],
   "source": [
    "library.available_books()"
   ]
  },
  {
   "cell_type": "markdown",
   "id": "e7c2c5a3-ec70-4e0c-9217-dfdca770f87c",
   "metadata": {},
   "source": [
    "1. Create a class called library\n",
    "2. Inside the library class we created constructor which takes list \n",
    "3. Create a method called add books inside these book we are adding the books to the list\n",
    "4. Create a mehtod called borrow books inside these method if someone borrows the book it will remove from the list of books\n",
    "5. Create another method called available books in which the user knows that the book is available or not "
   ]
  },
  {
   "cell_type": "markdown",
   "id": "b22f4632-a073-48e9-8c17-88baa8d7e134",
   "metadata": {},
   "source": [
    "5. Product Inventory Create classes representing a product and an inventory system. Implement methods to add products to the inventory, update product quantity, and display available products."
   ]
  },
  {
   "cell_type": "code",
   "execution_count": 91,
   "id": "60637359-8d7d-40df-8712-813bd0d91740",
   "metadata": {},
   "outputs": [],
   "source": [
    "class ProductInventory:\n",
    "    def __init__(self,product_invetory):\n",
    "        self.product_invetory = product_invetory\n",
    "        \n",
    "    def add_products(self, product):\n",
    "        self.product_invetory.update(product)\n",
    "    \n",
    "    def update_product_quantity(self,product, quantity):\n",
    "        self.product_invetory[product] += quantity\n",
    "        \n",
    "    def display_available_products(self):\n",
    "        return self.product_invetory\n",
    "            "
   ]
  },
  {
   "cell_type": "code",
   "execution_count": 92,
   "id": "33f17598-a1e1-4767-8ed2-c787038efff7",
   "metadata": {},
   "outputs": [],
   "source": [
    "product = ProductInventory({'Biscuits': 4, 'Butter' : 10, 'Milk' : 13})"
   ]
  },
  {
   "cell_type": "code",
   "execution_count": 93,
   "id": "a65721a1-2711-4ac8-8217-186acbdd2f4e",
   "metadata": {},
   "outputs": [
    {
     "data": {
      "text/plain": [
       "{'Biscuits': 4, 'Butter': 10, 'Milk': 13}"
      ]
     },
     "execution_count": 93,
     "metadata": {},
     "output_type": "execute_result"
    }
   ],
   "source": [
    "product.display_available_products()"
   ]
  },
  {
   "cell_type": "code",
   "execution_count": 94,
   "id": "c0b7a01e-05ae-474e-8205-140bc437a689",
   "metadata": {},
   "outputs": [],
   "source": [
    "product.update_product_quantity('Biscuits', 10)"
   ]
  },
  {
   "cell_type": "code",
   "execution_count": 95,
   "id": "6851283a-19ca-438e-9271-ad977a8b1159",
   "metadata": {},
   "outputs": [],
   "source": [
    "product.add_products({'samosa' : 10})"
   ]
  },
  {
   "cell_type": "code",
   "execution_count": 97,
   "id": "bdf5156a-60bc-4418-b530-468382cc0f9a",
   "metadata": {},
   "outputs": [
    {
     "data": {
      "text/plain": [
       "{'Biscuits': 14, 'Butter': 10, 'Milk': 13, 'samosa': 10}"
      ]
     },
     "execution_count": 97,
     "metadata": {},
     "output_type": "execute_result"
    }
   ],
   "source": [
    "product.display_available_products()"
   ]
  },
  {
   "cell_type": "markdown",
   "id": "eaddeb34-d300-4c02-9fe5-b8050aaae315",
   "metadata": {},
   "source": [
    "1. Create a class called ProductInvetory which dictionary as input\n",
    "2. Inside the class we have created a constructor which will hold the product inventory\n",
    "3. Create a method called add product which will add the product with quantity\n",
    "4. Create a method called update product quantity which will update our product quantity by using these method\n",
    "5. Create a method called display available product which will display all the available product which we have currently right now"
   ]
  },
  {
   "cell_type": "markdown",
   "id": "20962313-02a1-40d0-b06c-278103b440bc",
   "metadata": {},
   "source": [
    "6. Shape Calculation Create a class representing a shape with attributes like length, width, and height. Implement methods to calculate the area and perimeter of the shape."
   ]
  },
  {
   "cell_type": "code",
   "execution_count": 11,
   "id": "a09b2d0d-3c0e-424d-93e9-2e34a93278d7",
   "metadata": {},
   "outputs": [],
   "source": [
    "class ShapeCalculation:\n",
    "    def calculate_square(self,length):\n",
    "        return length ** 2\n",
    "    def calculate_rectangle(self,length,width):\n",
    "        return length * width\n",
    "    def calculate_triangle(self, width, height):\n",
    "        return width * height/2"
   ]
  },
  {
   "cell_type": "code",
   "execution_count": 12,
   "id": "7eb98d9e-c76d-492a-a7fa-31c2145eb0c7",
   "metadata": {},
   "outputs": [],
   "source": [
    "shape_calculation = ShapeCalculation()"
   ]
  },
  {
   "cell_type": "code",
   "execution_count": 13,
   "id": "8483c797-5663-4f17-a46e-36431efbf989",
   "metadata": {},
   "outputs": [
    {
     "data": {
      "text/plain": [
       "36"
      ]
     },
     "execution_count": 13,
     "metadata": {},
     "output_type": "execute_result"
    }
   ],
   "source": [
    "shape_calculation.calculate_square(6)"
   ]
  },
  {
   "cell_type": "code",
   "execution_count": 14,
   "id": "9b78034b-5389-475b-9a66-21f066e0d615",
   "metadata": {},
   "outputs": [
    {
     "data": {
      "text/plain": [
       "20"
      ]
     },
     "execution_count": 14,
     "metadata": {},
     "output_type": "execute_result"
    }
   ],
   "source": [
    "shape_calculation.calculate_rectangle(4,5)"
   ]
  },
  {
   "cell_type": "code",
   "execution_count": 15,
   "id": "cd09eeb9-23ee-4736-aaea-0659673ef77b",
   "metadata": {},
   "outputs": [
    {
     "data": {
      "text/plain": [
       "15.0"
      ]
     },
     "execution_count": 15,
     "metadata": {},
     "output_type": "execute_result"
    }
   ],
   "source": [
    "shape_calculation.calculate_triangle(5, 6)"
   ]
  },
  {
   "cell_type": "markdown",
   "id": "08c8b3a1-a7f0-4476-8548-e612cc85c8e0",
   "metadata": {},
   "source": [
    "1. Create a class called ShapeCalculation\n",
    "2. Inside the class we create a method called calculte_square which takes one argument lenght to calculate the area of square \n",
    "3. We create another method called calculate rectangle which takes two argument length or width to calculate area of rectangle\n",
    "4. We create another method called calculate_triangle which takes two arguments width or height to calculate the area of trianle"
   ]
  },
  {
   "cell_type": "markdown",
   "id": "26b7397c-cb09-47a8-a3fc-a4dadf21fc94",
   "metadata": {},
   "source": [
    "7. Student Management Create a class representing a student with attributes like student ID, name, and grades. Implement methods to calculate the average grade and display student details."
   ]
  },
  {
   "cell_type": "code",
   "execution_count": 110,
   "id": "4685bcb9-2e15-4c23-8794-3dca49cd2572",
   "metadata": {},
   "outputs": [],
   "source": [
    "class StudentManagement:\n",
    "    def __init__(self,student_id, student_name,student_grade):\n",
    "        self.student_id = student_id\n",
    "        self.student_name = student_name\n",
    "        self.student_grades = student_grade\n",
    "        self.total = 0\n",
    "        self.average = 0\n",
    "    def average_grade(self):\n",
    "        for i in self.student_grades:\n",
    "            self.total += i\n",
    "            self.average = self.total/len(self.student_grades)\n",
    "        return self.average\n",
    "    def student_details(self):\n",
    "        return f'Student Id : {self.student_id}, Student Name : {self.student_name}, Student Grades : {self.student_grades}'\n",
    "            "
   ]
  },
  {
   "cell_type": "code",
   "execution_count": 111,
   "id": "36bdf427-4cd0-4aa8-b7ce-3769a3a60c6e",
   "metadata": {},
   "outputs": [],
   "source": [
    "manoj = StudentManagement(123, 'Manish', [90, 50, 60, 70])"
   ]
  },
  {
   "cell_type": "code",
   "execution_count": 112,
   "id": "64779e49-004f-4ea8-b115-3f0e0670f336",
   "metadata": {},
   "outputs": [
    {
     "data": {
      "text/plain": [
       "67.5"
      ]
     },
     "execution_count": 112,
     "metadata": {},
     "output_type": "execute_result"
    }
   ],
   "source": [
    "manoj.average_grade()"
   ]
  },
  {
   "cell_type": "code",
   "execution_count": 113,
   "id": "34bca35a-1633-47b9-b33b-34af6a79fb4a",
   "metadata": {},
   "outputs": [
    {
     "data": {
      "text/plain": [
       "'Student Id : 123, Student Name : Manish, Student Grades : [90, 50, 60, 70]'"
      ]
     },
     "execution_count": 113,
     "metadata": {},
     "output_type": "execute_result"
    }
   ],
   "source": [
    "manoj.student_details()"
   ]
  },
  {
   "cell_type": "markdown",
   "id": "eb0bad04-8e63-4d1f-af38-8a60be6167b9",
   "metadata": {},
   "source": [
    "1. Create a class called StudentManagement\n",
    "2. Inside the class we have created constructor which takes three arguments student id, student name and student details \n",
    "3. Student id will take data type as integer, student name will take data tupe as string and student grades will take it as an list of marks\n",
    "4. Create a method called average grade of student in these method it will take the list of student marks and by using the average formulae we will calculate average of all marks inside the list\n",
    "5. Create method called student details which will show the details of the student"
   ]
  },
  {
   "cell_type": "markdown",
   "id": "b3056a11-1add-4f34-8ccd-8141ec2a0fea",
   "metadata": {},
   "source": [
    "8. Email Management Create a class representing an email with attributes like sender, recipient, and subject. Implement methods to send an email and display email details."
   ]
  },
  {
   "cell_type": "code",
   "execution_count": 150,
   "id": "e9924452-6915-4e73-b712-9e1f6283e458",
   "metadata": {},
   "outputs": [],
   "source": [
    "class EmailManagement:\n",
    "    def __init__(self,sender, recipient, subject):\n",
    "        self.sender = sender\n",
    "        self.recipient = recipient\n",
    "        self.subject = subject\n",
    "    def send_mail(self):\n",
    "        if \"@\" and \".com\" not in self.recipient:\n",
    "            return 'Email id is not valid'\n",
    "    def email_details(self):\n",
    "        return f'sender : {self.sender}, recipient: {self.recipient}, subject: {self.subject}'\n",
    "    "
   ]
  },
  {
   "cell_type": "code",
   "execution_count": 151,
   "id": "36500eb1-0d42-4e9b-859d-094ca714dec4",
   "metadata": {},
   "outputs": [],
   "source": [
    "manish = EmailManagement('zoheb@yahoo.com','manish@gmail.com', 'to test the email management sytem') "
   ]
  },
  {
   "cell_type": "code",
   "execution_count": 152,
   "id": "f2e3bbe4-63da-47c2-ad4f-2ffad1880a20",
   "metadata": {},
   "outputs": [],
   "source": [
    "manish.send_mail()"
   ]
  },
  {
   "cell_type": "code",
   "execution_count": 153,
   "id": "4d8ecafe-50f4-4092-90e9-672aa5b96608",
   "metadata": {},
   "outputs": [
    {
     "data": {
      "text/plain": [
       "'sender : zoheb@yahoo.com, recipient: manish@gmail.com, subject: to test the email management sytem'"
      ]
     },
     "execution_count": 153,
     "metadata": {},
     "output_type": "execute_result"
    }
   ],
   "source": [
    "manish.email_details()"
   ]
  },
  {
   "cell_type": "markdown",
   "id": "bf287d70-4722-4d1a-a47f-3eae8fa5d196",
   "metadata": {},
   "source": [
    "1. Create a class called EmailManagement\n",
    "2. Create a attributes inside the class like sender, recipient and subject\n",
    "3. Create a method inside the class called send mail if the mail is not having the @ then that email is not valid\n",
    "4. Create a method email details which will give us the detail of which person have sended the mail"
   ]
  },
  {
   "cell_type": "markdown",
   "id": "497eb6bf-e22b-48bc-8e38-f556e2ca2075",
   "metadata": {},
   "source": [
    "9. Social Media Profile Create a class representing a social media profile with attributes like username and posts. Implement methods to add posts, display posts, and search for posts by keyword."
   ]
  },
  {
   "cell_type": "code",
   "execution_count": 8,
   "id": "372a34b4-a7e1-431f-8f56-e92fb212cea5",
   "metadata": {},
   "outputs": [],
   "source": [
    "class SocialMedia:\n",
    "    def __init__(self, username, post):\n",
    "        self.username = username\n",
    "        self.post = post\n",
    "    def add_post(self, post):\n",
    "        self.post.append(post)\n",
    "    def display_post(self):\n",
    "        return self.post\n",
    "    def search_post(self):\n",
    "        search_post = input('')\n",
    "        for post in self.post:\n",
    "            if search_post in post:\n",
    "                return post\n",
    "        "
   ]
  },
  {
   "cell_type": "code",
   "execution_count": 9,
   "id": "be2785fc-5c0c-45b1-82ad-c9e663d5c2c8",
   "metadata": {},
   "outputs": [],
   "source": [
    "manish = SocialMedia('manish123',['I am learning python'])"
   ]
  },
  {
   "cell_type": "code",
   "execution_count": 10,
   "id": "ee9055d1-c47b-43e7-9c23-6ed781a5eec4",
   "metadata": {},
   "outputs": [],
   "source": [
    "manish.add_post('I am learning Java')"
   ]
  },
  {
   "cell_type": "code",
   "execution_count": 11,
   "id": "0e0a1cfc-f828-46f6-8acf-8b61a00e0f04",
   "metadata": {},
   "outputs": [
    {
     "data": {
      "text/plain": [
       "['I am learning python', 'I am learning Java']"
      ]
     },
     "execution_count": 11,
     "metadata": {},
     "output_type": "execute_result"
    }
   ],
   "source": [
    "manish.display_post()"
   ]
  },
  {
   "cell_type": "code",
   "execution_count": 12,
   "id": "b4a4ea8c-81b9-4931-8f4a-8b329152aa1b",
   "metadata": {},
   "outputs": [
    {
     "name": "stdin",
     "output_type": "stream",
     "text": [
      " Ja\n"
     ]
    },
    {
     "data": {
      "text/plain": [
       "'I am learning Java'"
      ]
     },
     "execution_count": 12,
     "metadata": {},
     "output_type": "execute_result"
    }
   ],
   "source": [
    "manish.search_post()"
   ]
  },
  {
   "cell_type": "markdown",
   "id": "3b26430d-240f-469b-a6d3-9fd5c68e3fb5",
   "metadata": {},
   "source": [
    "1. Create a class called SocialMedia\n",
    "2. Create two attributes inside the class username and post\n",
    "3. The user name will take the string data type and post will take the list \n",
    "4. Create a method called add_post which will add the post inside the post attributes\n",
    "5. Create another method called display post which will display all the post which you have currently right now\n",
    "6. Create another method called search post inside these method it will take as an input from the user to search the post by keywords if that characters are inside the post then it will return that post only"
   ]
  },
  {
   "cell_type": "markdown",
   "id": "3c9ff626-5f26-46fb-9f22-9abcf5bea68d",
   "metadata": {},
   "source": [
    "10. ToDo List Create a class representing a ToDo list with attributes like tasks and due dates. Implement methods to add tasks, mark tasks as completed, and display pending tasks."
   ]
  },
  {
   "cell_type": "code",
   "execution_count": 32,
   "id": "e3103a8b-5544-44a3-ba7a-b4e204327d7b",
   "metadata": {},
   "outputs": [],
   "source": [
    "class ToDoList:\n",
    "    def __init__(self,tasks,due_dates):\n",
    "        self.tasks = tasks\n",
    "        self.due_dates = due_dates\n",
    "    def add_tasks(self,tasks):\n",
    "        self.tasks.append(tasks)\n",
    "    def completed_task(self, complete_task):\n",
    "        print(f'Task Complete: {complete_task}')\n",
    "        self.tasks.remove(complete_task)\n",
    "    def display_pending_tasks(self):\n",
    "        return self.tasks\n",
    "    def task_date(self):\n",
    "        return self.due_dates\n",
    "    "
   ]
  },
  {
   "cell_type": "code",
   "execution_count": 40,
   "id": "4b50127d-4f06-4f71-9c8b-a1512540651b",
   "metadata": {},
   "outputs": [],
   "source": [
    "from datetime import date"
   ]
  },
  {
   "cell_type": "code",
   "execution_count": 34,
   "id": "87674adc-8c15-4219-b657-9bac55ffcd0c",
   "metadata": {},
   "outputs": [],
   "source": [
    "task = ToDoList(['Wake up', 'Breakfast','Go To office'],date.today()) "
   ]
  },
  {
   "cell_type": "code",
   "execution_count": 35,
   "id": "b2466149-b679-4e4c-af4a-cf66f3b7e3ce",
   "metadata": {},
   "outputs": [],
   "source": [
    "task.add_tasks('Go to dinner with friends')"
   ]
  },
  {
   "cell_type": "code",
   "execution_count": 36,
   "id": "254df9f4-f0ad-462f-9d44-47e1e5fb4b66",
   "metadata": {},
   "outputs": [
    {
     "data": {
      "text/plain": [
       "['Wake up', 'Breakfast', 'Go To office', 'Go to dinner with friends']"
      ]
     },
     "execution_count": 36,
     "metadata": {},
     "output_type": "execute_result"
    }
   ],
   "source": [
    "task.display_pending_tasks()"
   ]
  },
  {
   "cell_type": "code",
   "execution_count": 37,
   "id": "4ac66e3f-84ca-4934-927e-ba9a29034e33",
   "metadata": {},
   "outputs": [
    {
     "name": "stdout",
     "output_type": "stream",
     "text": [
      "Task Complete: Wake up\n"
     ]
    }
   ],
   "source": [
    "task.completed_task('Wake up')"
   ]
  },
  {
   "cell_type": "code",
   "execution_count": 38,
   "id": "5103104c-f31a-4785-b8a4-82e16f403f38",
   "metadata": {},
   "outputs": [
    {
     "data": {
      "text/plain": [
       "['Breakfast', 'Go To office', 'Go to dinner with friends']"
      ]
     },
     "execution_count": 38,
     "metadata": {},
     "output_type": "execute_result"
    }
   ],
   "source": [
    "task.display_pending_tasks()"
   ]
  },
  {
   "cell_type": "code",
   "execution_count": 39,
   "id": "830f549d-a095-4eb7-a742-978399f73fbf",
   "metadata": {},
   "outputs": [
    {
     "data": {
      "text/plain": [
       "datetime.date(2023, 11, 15)"
      ]
     },
     "execution_count": 39,
     "metadata": {},
     "output_type": "execute_result"
    }
   ],
   "source": [
    "task.task_date()"
   ]
  },
  {
   "cell_type": "markdown",
   "id": "67508a9e-020b-4196-8810-d7f68124bb08",
   "metadata": {},
   "source": [
    "1. Create a class called TodoList\n",
    "2. Create attributes task and due dates inside the class\n",
    "3. The attribut task takes the list of task and due date will take the date time data types which we will take from the library called datetime\n",
    "4. Create a method called add_task in which the user will add the task inside the attributes task\n",
    "5. Create a method called completed_task in which the user will mark which task is completed currentky if that task is completed then that task will remove from the list of task\n",
    "6. Create a method called display_pending_tasks it will the current remaining task inside the list of task\n",
    "7. Create a method called task_date in the user will know the due dates of the remaining task"
   ]
  },
  {
   "cell_type": "code",
   "execution_count": null,
   "id": "bf71f7ac-cc00-4b99-ba66-55be45834683",
   "metadata": {},
   "outputs": [],
   "source": []
  }
 ],
 "metadata": {
  "kernelspec": {
   "display_name": "Python 3 (ipykernel)",
   "language": "python",
   "name": "python3"
  },
  "language_info": {
   "codemirror_mode": {
    "name": "ipython",
    "version": 3
   },
   "file_extension": ".py",
   "mimetype": "text/x-python",
   "name": "python",
   "nbconvert_exporter": "python",
   "pygments_lexer": "ipython3",
   "version": "3.10.8"
  }
 },
 "nbformat": 4,
 "nbformat_minor": 5
}
